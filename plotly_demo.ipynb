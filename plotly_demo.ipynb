{
 "cells": [
  {
   "cell_type": "markdown",
   "metadata": {},
   "source": [
    "Offical User Guide can be found [here](https://plot.ly/python/user-guide/)"
   ]
  },
  {
   "cell_type": "code",
   "execution_count": 1,
   "metadata": {},
   "outputs": [
    {
     "ename": "ModuleNotFoundError",
     "evalue": "No module named 'plotly'",
     "output_type": "error",
     "traceback": [
      "\u001b[1;31m---------------------------------------------------------------------------\u001b[0m",
      "\u001b[1;31mModuleNotFoundError\u001b[0m                       Traceback (most recent call last)",
      "\u001b[1;32m<ipython-input-1-31c150f40cf1>\u001b[0m in \u001b[0;36m<module>\u001b[1;34m\u001b[0m\n\u001b[1;32m----> 1\u001b[1;33m \u001b[1;32mimport\u001b[0m \u001b[0mplotly\u001b[0m\u001b[1;33m\u001b[0m\u001b[1;33m\u001b[0m\u001b[0m\n\u001b[0m\u001b[0;32m      2\u001b[0m \u001b[1;32mimport\u001b[0m \u001b[0mplotly\u001b[0m\u001b[1;33m.\u001b[0m\u001b[0mplotly\u001b[0m \u001b[1;32mas\u001b[0m \u001b[0mpy\u001b[0m\u001b[1;33m\u001b[0m\u001b[1;33m\u001b[0m\u001b[0m\n\u001b[0;32m      3\u001b[0m \u001b[1;32mimport\u001b[0m \u001b[0mplotly\u001b[0m\u001b[1;33m.\u001b[0m\u001b[0mgraph_objs\u001b[0m \u001b[1;32mas\u001b[0m \u001b[0mgo\u001b[0m\u001b[1;33m\u001b[0m\u001b[1;33m\u001b[0m\u001b[0m\n\u001b[0;32m      4\u001b[0m \u001b[1;33m\u001b[0m\u001b[0m\n\u001b[0;32m      5\u001b[0m \u001b[0mplotly\u001b[0m\u001b[1;33m.\u001b[0m\u001b[0mtools\u001b[0m\u001b[1;33m.\u001b[0m\u001b[0mset_credentials_file\u001b[0m\u001b[1;33m(\u001b[0m\u001b[0musername\u001b[0m\u001b[1;33m=\u001b[0m\u001b[1;34m'GuoquanXing'\u001b[0m\u001b[1;33m,\u001b[0m \u001b[0mapi_key\u001b[0m\u001b[1;33m=\u001b[0m\u001b[1;34m'3xRo1op5jcOR5rkjVKtl'\u001b[0m\u001b[1;33m)\u001b[0m\u001b[1;33m\u001b[0m\u001b[1;33m\u001b[0m\u001b[0m\n",
      "\u001b[1;31mModuleNotFoundError\u001b[0m: No module named 'plotly'"
     ]
    }
   ],
   "source": [
    "import plotly\n",
    "import plotly.plotly as py\n",
    "import plotly.graph_objs as go\n",
    "\n",
    "plotly.tools.set_credentials_file(username='GuoquanXing', api_key='3xRo1op5jcOR5rkjVKtl')\n",
    "\n",
    "trace1 = go.Scatter(x=[1,2,3], y=[4,5,6], marker={'color': 'red', 'symbol': 104, 'size': 10}, \n",
    "                    mode=\"markers+lines\",  text=[\"one\",\"two\",\"three\"], name='1st Trace')\n",
    "                                               \n",
    "data=go.Data([trace1])\n",
    "layout=go.Layout(title=\"First Plot\", xaxis={'title':'x1'}, yaxis={'title':'x2'})\n",
    "figure=go.Figure(data=data,layout=layout)\n",
    "py.iplot(figure, filename='pyguide_1')"
   ]
  },
  {
   "cell_type": "code",
   "execution_count": null,
   "metadata": {},
   "outputs": [],
   "source": [
    "import pandas as pd\n",
    "import plotly.plotly as py\n",
    "import plotly.graph_objs as go\n",
    "\n",
    "df = pd.read_csv('https://raw.githubusercontent.com/yankev/test/master/life-expectancy-per-GDP-2007.csv')\n",
    "\n",
    "americas = df[(df.continent=='Americas')]\n",
    "europe = df[(df.continent=='Europe')]"
   ]
  },
  {
   "cell_type": "markdown",
   "metadata": {},
   "source": [
    "Create function `plot_scatter` to plot scatter.\n",
    "  - title: name of plot title\n",
    "  - df_Xaxis: data frame column list for data set A and Axis X\n",
    "  - df_Yaxis: data frame column list for data set A and Axis Y\n",
    "  - df_text: data frame column list for data set A Hover Text\n",
    "  - df1_Xaxis: data frame column list for data set B and Axis X\n",
    "  - df1_Yaxis: data frame column list for data set B and Axis Y\n",
    "  - df1_text: data frame column list for data set B Hover Text"
   ]
  },
  {
   "cell_type": "code",
   "execution_count": null,
   "metadata": {},
   "outputs": [],
   "source": [
    "def plot_scatter(title, df_Xaxis, df_Yaxis, df_text, df1_Xaxis, df1_Yaxis, df1_text):\n",
    "#     americas = df[(df.continent==column_a)]\n",
    "#     europe = df[(df.continent==column_b)]\n",
    "    trace_comp0 = go.Scatter(\n",
    "        x=df_Xaxis,\n",
    "        y=df_Yaxis,\n",
    "        mode='markers',\n",
    "        marker=dict(size=12,\n",
    "                    line=dict(width=1),\n",
    "                    color=\"navy\"\n",
    "                   ),\n",
    "        name='Americas',\n",
    "        text=df_text,\n",
    "        )\n",
    "\n",
    "    trace_comp1 = go.Scatter(\n",
    "        x=df1_Xaxis,\n",
    "        y=df1_Yaxis,\n",
    "        mode='markers',\n",
    "        marker=dict(size=12,\n",
    "                    line=dict(width=1),\n",
    "                    color=\"red\"\n",
    "                   ),\n",
    "        name='Europe',\n",
    "        text=df1_text,\n",
    "            )\n",
    "\n",
    "    data_comp = [trace_comp0, trace_comp1]\n",
    "    layout_comp = go.Layout(\n",
    "        title=title,\n",
    "        hovermode='closest',\n",
    "        xaxis=dict(\n",
    "            title='GDP per capita (2000 dollars)',\n",
    "            ticklen=5,\n",
    "            zeroline=False,\n",
    "            gridwidth=2,\n",
    "        ),\n",
    "        yaxis=dict(\n",
    "            title='Life Expectancy (years)',\n",
    "            ticklen=5,\n",
    "            gridwidth=2,\n",
    "        ),\n",
    "    )\n",
    "    fig_comp = go.Figure(data=data_comp, layout=layout_comp)\n",
    "    return fig_comp\n",
    "    "
   ]
  },
  {
   "cell_type": "code",
   "execution_count": null,
   "metadata": {},
   "outputs": [],
   "source": [
    "americas = df[(df.continent=='Americas')]\n",
    "europe = df[(df.continent=='Europe')]\n",
    "\n",
    "fig_comp1 = plot_scatter(title = 'Hello Title', \n",
    "             df_Xaxis = americas.gdp_percap,\n",
    "             df_Yaxis = americas.life_exp,\n",
    "             df_text = americas.country,\n",
    "             df1_Xaxis = europe.gdp_percap,\n",
    "             df1_Yaxis = europe.life_exp,\n",
    "             df1_text = europe.country)\n",
    "py.iplot(fig_comp1, filename='life-expectancy-per-GDP-2007312')\n"
   ]
  },
  {
   "cell_type": "code",
   "execution_count": null,
   "metadata": {},
   "outputs": [],
   "source": [
    "#First let's make up some cool data to plot:\n",
    "import numpy as np\n",
    "x = np.arange(1,3.2,0.2)\n",
    "y = 6*np.sin(x)\n",
    "y"
   ]
  },
  {
   "cell_type": "code",
   "execution_count": null,
   "metadata": {},
   "outputs": [],
   "source": [
    "trace2 = go.Scatter(x=x, y=y, marker={'color': 'blue', 'symbol': 'star', 'size': 10}, mode='markers+lines', name='2nd trace')\n",
    "data = go.Data([trace1, trace2])\n",
    "data"
   ]
  },
  {
   "cell_type": "code",
   "execution_count": null,
   "metadata": {},
   "outputs": [],
   "source": [
    "plot2 = py.iplot(go.Figure(data=data, layout=layout), filename='pyguide_3')\n",
    "plot2"
   ]
  },
  {
   "cell_type": "code",
   "execution_count": null,
   "metadata": {},
   "outputs": [],
   "source": [
    "# help(go.Figure)"
   ]
  },
  {
   "cell_type": "code",
   "execution_count": null,
   "metadata": {},
   "outputs": [],
   "source": []
  }
 ],
 "metadata": {
  "kernelspec": {
   "display_name": "Python 3",
   "language": "python",
   "name": "python3"
  },
  "language_info": {
   "codemirror_mode": {
    "name": "ipython",
    "version": 3
   },
   "file_extension": ".py",
   "mimetype": "text/x-python",
   "name": "python",
   "nbconvert_exporter": "python",
   "pygments_lexer": "ipython3",
   "version": "3.7.1"
  }
 },
 "nbformat": 4,
 "nbformat_minor": 2
}
