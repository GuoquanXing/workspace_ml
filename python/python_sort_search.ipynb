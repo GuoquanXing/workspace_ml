{
 "cells": [
  {
   "cell_type": "code",
   "execution_count": 58,
   "metadata": {},
   "outputs": [],
   "source": [
    "import random\n",
    "\n",
    "def quicksort(array):    #random pivot\n",
    "    if len(array) < 2:\n",
    "        return array\n",
    "    else:\n",
    "        pivot = array[random.randint(0, len(array)-1)]\n",
    "        less = [i for i in array[0:] if i < pivot]\n",
    "        greater = [i for i in array[0:] if i > pivot]\n",
    "        return quicksort(less) + [pivot] + quicksort(greater)\n"
   ]
  },
  {
   "cell_type": "code",
   "execution_count": 59,
   "metadata": {},
   "outputs": [],
   "source": [
    "def binarysearch(array, item):\n",
    "    head, tail = 0, len(array) -1\n",
    "\n",
    "    while (head <= tail):\n",
    "        mid = (head + tail) // 2  # for python 3.X floor division\n",
    "        if(array[mid] < item):\n",
    "            head = mid + 1\n",
    "        elif(array[mid] > item):\n",
    "            tail = mid - 1\n",
    "        else:\n",
    "            return mid\n",
    "    return None;"
   ]
  },
  {
   "cell_type": "code",
   "execution_count": 64,
   "metadata": {},
   "outputs": [],
   "source": [
    "def quicksort_new(array):    #random pivot\n",
    "    if len(array) < 2:\n",
    "        return array\n",
    "    else:\n",
    "        pivot = array[random.randint(0, len(array)-1)]\n",
    "        less = [i for i in array[0:] if i < pivot]\n",
    "        greater = [i for i in array[0:] if i > pivot]\n",
    "        equal = [i for i in array[0:] if i == pivot]\n",
    "        print(equal)\n",
    "        return quicksort(less) + equal + quicksort(greater)"
   ]
  },
  {
   "cell_type": "code",
   "execution_count": 65,
   "metadata": {},
   "outputs": [],
   "source": [
    "array = [1, 2, 4, 6, 2, 45, 45, 45, 54, 32]"
   ]
  },
  {
   "cell_type": "code",
   "execution_count": 66,
   "metadata": {},
   "outputs": [
    {
     "data": {
      "text/plain": [
       "[1, 2, 4, 6, 2, 45, 45, 45, 54, 32]"
      ]
     },
     "execution_count": 66,
     "metadata": {},
     "output_type": "execute_result"
    }
   ],
   "source": [
    "array"
   ]
  },
  {
   "cell_type": "code",
   "execution_count": 68,
   "metadata": {},
   "outputs": [
    {
     "name": "stdout",
     "output_type": "stream",
     "text": [
      "[6]\n",
      "[1, 2, 4, 6, 32, 45, 54]\n"
     ]
    }
   ],
   "source": [
    "print(quicksort_new(array))"
   ]
  },
  {
   "cell_type": "code",
   "execution_count": 23,
   "metadata": {},
   "outputs": [],
   "source": [
    "array_sorted = array.copy()\n",
    "array_sorted.sort()"
   ]
  },
  {
   "cell_type": "code",
   "execution_count": 24,
   "metadata": {},
   "outputs": [
    {
     "name": "stdout",
     "output_type": "stream",
     "text": [
      "[1, 2, 4, 6, 2, 45, 45, 45, 54, 32]\n",
      "[1, 2, 2, 4, 6, 32, 45, 45, 45, 54]\n"
     ]
    }
   ],
   "source": [
    "print(array)\n",
    "print(array_sorted)"
   ]
  },
  {
   "cell_type": "code",
   "execution_count": 4,
   "metadata": {},
   "outputs": [],
   "source": [
    "b = dict([('ss', 'masami'),('gakki', 'yui')])"
   ]
  },
  {
   "cell_type": "code",
   "execution_count": null,
   "metadata": {},
   "outputs": [],
   "source": [
    "c = set([1, 3, 5, 4, 1])"
   ]
  },
  {
   "cell_type": "code",
   "execution_count": null,
   "metadata": {},
   "outputs": [],
   "source": [
    "b['ss']"
   ]
  },
  {
   "cell_type": "code",
   "execution_count": 3,
   "metadata": {},
   "outputs": [],
   "source": [
    "def quickSort(alist):\n",
    "    quickSortHelper(alist, 0, len(alist)-1)\n",
    "\n",
    "def quickSortHelper(alist, first,last):\n",
    "    if first < last:\n",
    "        splitpoint = partition(alist,first,last)\n",
    "        quickSortHelper(alist, first, splitpoint-1)\n",
    "        quickSortHelper(alist, splitpoint+1, last)\n",
    "\n",
    "def partition(alist, first, last):\n",
    "    pivotvalue = alist[first]\n",
    "\n",
    "    leftmark = first+1\n",
    "    rightmark = last\n",
    "\n",
    "    done = False\n",
    "    while not done:\n",
    "\n",
    "        while leftmark <= rightmark and alist[leftmark] <= pivotvalue:\n",
    "            leftmark = leftmark + 1\n",
    " \n",
    "        while alist[rightmark] >= pivotvalue and rightmark >= leftmark:\n",
    "            rightmark = rightmark -1\n",
    "\n",
    "        if rightmark < leftmark:\n",
    "            done = True\n",
    "        else:\n",
    "            alist[leftmark], alist[rightmark] = alist[rightmark], alist[leftmark]\n",
    "        \n",
    "        alist[first], alist[rightmark] = alist[rightmark], alist[first]\n",
    "\n",
    "\n",
    "    return rightmark"
   ]
  },
  {
   "cell_type": "code",
   "execution_count": 4,
   "metadata": {},
   "outputs": [
    {
     "data": {
      "text/plain": [
       "[1, 2, 2, 4, 6, 32, 45, 45, 45, 54]"
      ]
     },
     "execution_count": 4,
     "metadata": {},
     "output_type": "execute_result"
    }
   ],
   "source": [
    "array_1 = [1, 2, 4, 6, 2, 45, 45, 45, 54, 32]\n",
    "quickSort(array_1)\n",
    "array_1"
   ]
  },
  {
   "cell_type": "code",
   "execution_count": null,
   "metadata": {},
   "outputs": [],
   "source": [
    "class Node:\n",
    "    \n",
    "    def __init__(self, data):\n",
    "        sef.left = null\n",
    "        self.right = null\n",
    "        self.data = data\n",
    "        \n",
    "    def insert(self, data):\n",
    "        if self.data:\n",
    "            if data < self.data:\n",
    "                if self.left:\n",
    "                    self.left.insert(data)\n",
    "                else:\n",
    "                    self.left = Node(data)   \n",
    "            elif data > self.data:\n",
    "                if self.right:\n",
    "                    self.right.insert(data)\n",
    "                else:\n",
    "                    self.right = Node(data)\n",
    "        else:\n",
    "            self.data = data\n",
    "            "
   ]
  }
 ],
 "metadata": {
  "kernelspec": {
   "display_name": "Python 3",
   "language": "python",
   "name": "python3"
  },
  "language_info": {
   "codemirror_mode": {
    "name": "ipython",
    "version": 3
   },
   "file_extension": ".py",
   "mimetype": "text/x-python",
   "name": "python",
   "nbconvert_exporter": "python",
   "pygments_lexer": "ipython3",
   "version": "3.7.1"
  }
 },
 "nbformat": 4,
 "nbformat_minor": 2
}
